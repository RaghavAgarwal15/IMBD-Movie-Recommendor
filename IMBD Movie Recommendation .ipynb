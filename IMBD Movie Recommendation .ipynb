{
 "cells": [
  {
   "cell_type": "markdown",
   "id": "fd3852a9",
   "metadata": {},
   "source": [
    "#                                     IMBD MOVIE RECOMMENDOR        "
   ]
  },
  {
   "cell_type": "code",
   "execution_count": 1,
   "id": "7adc88fe",
   "metadata": {},
   "outputs": [],
   "source": [
    "import pandas as pd\n",
    "import numpy as np\n",
    "import warnings\n",
    "\n",
    "warnings.filterwarnings('ignore')\n",
    "\n",
    "df  = pd.read_csv(\"Movies.csv\")"
   ]
  },
  {
   "cell_type": "code",
   "execution_count": 2,
   "id": "bd4e10e5",
   "metadata": {},
   "outputs": [
    {
     "data": {
      "text/html": [
       "<div>\n",
       "<style scoped>\n",
       "    .dataframe tbody tr th:only-of-type {\n",
       "        vertical-align: middle;\n",
       "    }\n",
       "\n",
       "    .dataframe tbody tr th {\n",
       "        vertical-align: top;\n",
       "    }\n",
       "\n",
       "    .dataframe thead th {\n",
       "        text-align: right;\n",
       "    }\n",
       "</style>\n",
       "<table border=\"1\" class=\"dataframe\">\n",
       "  <thead>\n",
       "    <tr style=\"text-align: right;\">\n",
       "      <th></th>\n",
       "      <th>name</th>\n",
       "      <th>year</th>\n",
       "      <th>duration</th>\n",
       "      <th>genre</th>\n",
       "      <th>rating</th>\n",
       "      <th>director</th>\n",
       "      <th>type</th>\n",
       "    </tr>\n",
       "  </thead>\n",
       "  <tbody>\n",
       "    <tr>\n",
       "      <th>0</th>\n",
       "      <td>The Shawshank Redemption</td>\n",
       "      <td>1994</td>\n",
       "      <td>142</td>\n",
       "      <td>Drama</td>\n",
       "      <td>9.3</td>\n",
       "      <td>Frank Darabont</td>\n",
       "      <td>Movie</td>\n",
       "    </tr>\n",
       "    <tr>\n",
       "      <th>1</th>\n",
       "      <td>The Godfather</td>\n",
       "      <td>1972</td>\n",
       "      <td>175</td>\n",
       "      <td>Crime,Drama</td>\n",
       "      <td>9.2</td>\n",
       "      <td>Francis Ford Coppola</td>\n",
       "      <td>Movie</td>\n",
       "    </tr>\n",
       "    <tr>\n",
       "      <th>2</th>\n",
       "      <td>The Dark Knight</td>\n",
       "      <td>2008</td>\n",
       "      <td>152</td>\n",
       "      <td>Action,Crime,Drama</td>\n",
       "      <td>9.0</td>\n",
       "      <td>Christopher Nolan</td>\n",
       "      <td>Movie</td>\n",
       "    </tr>\n",
       "    <tr>\n",
       "      <th>3</th>\n",
       "      <td>The Godfather: Part II</td>\n",
       "      <td>1974</td>\n",
       "      <td>202</td>\n",
       "      <td>Crime,Drama</td>\n",
       "      <td>9.0</td>\n",
       "      <td>Francis Ford Coppola</td>\n",
       "      <td>Movie</td>\n",
       "    </tr>\n",
       "    <tr>\n",
       "      <th>4</th>\n",
       "      <td>12 Angry Men</td>\n",
       "      <td>1957</td>\n",
       "      <td>96</td>\n",
       "      <td>Crime,Drama</td>\n",
       "      <td>9.0</td>\n",
       "      <td>Sidney Lumet</td>\n",
       "      <td>Movie</td>\n",
       "    </tr>\n",
       "  </tbody>\n",
       "</table>\n",
       "</div>"
      ],
      "text/plain": [
       "                       name  year  duration               genre  rating  \\\n",
       "0  The Shawshank Redemption  1994       142               Drama     9.3   \n",
       "1             The Godfather  1972       175         Crime,Drama     9.2   \n",
       "2           The Dark Knight  2008       152  Action,Crime,Drama     9.0   \n",
       "3    The Godfather: Part II  1974       202         Crime,Drama     9.0   \n",
       "4              12 Angry Men  1957        96         Crime,Drama     9.0   \n",
       "\n",
       "               director   type  \n",
       "0        Frank Darabont  Movie  \n",
       "1  Francis Ford Coppola  Movie  \n",
       "2     Christopher Nolan  Movie  \n",
       "3  Francis Ford Coppola  Movie  \n",
       "4          Sidney Lumet  Movie  "
      ]
     },
     "execution_count": 2,
     "metadata": {},
     "output_type": "execute_result"
    }
   ],
   "source": [
    "df.head()"
   ]
  },
  {
   "cell_type": "markdown",
   "id": "a03bf48f",
   "metadata": {},
   "source": [
    "## 1. Asking User for the Input"
   ]
  },
  {
   "cell_type": "code",
   "execution_count": 3,
   "id": "9bcead1c",
   "metadata": {},
   "outputs": [
    {
     "name": "stdout",
     "output_type": "stream",
     "text": [
      "Enter the name of the movie :The Dark Knight\n"
     ]
    }
   ],
   "source": [
    "movie = input(\"Enter the name of the movie :\")"
   ]
  },
  {
   "cell_type": "markdown",
   "id": "a7c84c9d",
   "metadata": {},
   "source": [
    "## 2. Director"
   ]
  },
  {
   "cell_type": "code",
   "execution_count": 4,
   "id": "ce1a030c",
   "metadata": {},
   "outputs": [
    {
     "name": "stdout",
     "output_type": "stream",
     "text": [
      " The directors of the movie that user has selected is/are : Christopher Nolan\n"
     ]
    }
   ],
   "source": [
    "directors = (df[df['name'] == movie]['director'].values)\n",
    "print(\" The directors of the movie that user has selected is/are :\",directors[0])"
   ]
  },
  {
   "cell_type": "markdown",
   "id": "3e95bc44",
   "metadata": {},
   "source": [
    "## 3. Top 10 movies based on the directors "
   ]
  },
  {
   "cell_type": "code",
   "execution_count": 5,
   "id": "64fb4fbf",
   "metadata": {},
   "outputs": [],
   "source": [
    "new = df"
   ]
  },
  {
   "cell_type": "code",
   "execution_count": 6,
   "id": "535bac3a",
   "metadata": {},
   "outputs": [],
   "source": [
    "del new['year']\n",
    "del new['duration']\n",
    "del new['genre']\n",
    "del new['rating']\n",
    "del new['type']"
   ]
  },
  {
   "cell_type": "markdown",
   "id": "87988b50",
   "metadata": {},
   "source": [
    "### 3.1 Finding names of all directors"
   ]
  },
  {
   "cell_type": "code",
   "execution_count": 7,
   "id": "489943a6",
   "metadata": {},
   "outputs": [],
   "source": [
    "directors = []\n",
    "for i in new['director']:\n",
    "    \n",
    "    directors += i.split(',')\n",
    "    \n",
    "directors = [i.strip() for i in directors]    \n",
    "directors = list(set(directors))"
   ]
  },
  {
   "cell_type": "markdown",
   "id": "88536fb9",
   "metadata": {},
   "source": [
    "### 3.2 One Hot Conversion"
   ]
  },
  {
   "cell_type": "code",
   "execution_count": 8,
   "id": "22d4e44e",
   "metadata": {},
   "outputs": [],
   "source": [
    "one_hot = []\n",
    "\n",
    "for i in new['director']:\n",
    "    \n",
    "    i = [j.strip() for j in i.split(',')]\n",
    "    enc = [0 for i in range(len(directors))]\n",
    "    \n",
    "    for dir in i:\n",
    "        enc[directors.index(dir)] = 1\n",
    "    \n",
    "    one_hot.append(enc)"
   ]
  },
  {
   "cell_type": "markdown",
   "id": "6704d042",
   "metadata": {},
   "source": [
    "### 3.3 One Hot Conversion Verification (Counting Number of Genres and 1's)"
   ]
  },
  {
   "cell_type": "code",
   "execution_count": 9,
   "id": "97439279",
   "metadata": {},
   "outputs": [],
   "source": [
    "for i in range(len(new['director'])):\n",
    "    \n",
    "    x1 = len(new['director'][i].split(','))          \n",
    "    x2 = list(one_hot[i]).count(1)          \n",
    "    \n",
    "    if (x1 != x2):\n",
    "        print('Not Equal')"
   ]
  },
  {
   "cell_type": "markdown",
   "id": "1787febb",
   "metadata": {},
   "source": [
    "### 3.4  Converting OneHot to Array"
   ]
  },
  {
   "cell_type": "code",
   "execution_count": 10,
   "id": "24342a49",
   "metadata": {},
   "outputs": [
    {
     "data": {
      "text/plain": [
       "(1250, 1210)"
      ]
     },
     "execution_count": 10,
     "metadata": {},
     "output_type": "execute_result"
    }
   ],
   "source": [
    "one_hot = np.array(one_hot)\n",
    "one_hot.shape"
   ]
  },
  {
   "cell_type": "markdown",
   "id": "6e4a15ad",
   "metadata": {},
   "source": [
    "### 3.5 Adding OneHotData Data to DataFrame"
   ]
  },
  {
   "cell_type": "code",
   "execution_count": 11,
   "id": "1c28538f",
   "metadata": {
    "scrolled": true
   },
   "outputs": [
    {
     "data": {
      "text/html": [
       "<div>\n",
       "<style scoped>\n",
       "    .dataframe tbody tr th:only-of-type {\n",
       "        vertical-align: middle;\n",
       "    }\n",
       "\n",
       "    .dataframe tbody tr th {\n",
       "        vertical-align: top;\n",
       "    }\n",
       "\n",
       "    .dataframe thead th {\n",
       "        text-align: right;\n",
       "    }\n",
       "</style>\n",
       "<table border=\"1\" class=\"dataframe\">\n",
       "  <thead>\n",
       "    <tr style=\"text-align: right;\">\n",
       "      <th></th>\n",
       "      <th>name</th>\n",
       "      <th>director</th>\n",
       "      <th>Daniel Monzón</th>\n",
       "      <th>Florian Henckel von Donnersmarck</th>\n",
       "      <th>Christian Carion</th>\n",
       "      <th>Morgan Freeman</th>\n",
       "      <th>Mike Newell</th>\n",
       "      <th>Mitch Pileggi</th>\n",
       "      <th>Kevin Macdonald</th>\n",
       "      <th>Jonathan Levine</th>\n",
       "      <th>...</th>\n",
       "      <th>Graham Chapman</th>\n",
       "      <th>Son Ye-jin</th>\n",
       "      <th>Stellan Skarsgård</th>\n",
       "      <th>Rafael Pettersson</th>\n",
       "      <th>Mamoru Miyano</th>\n",
       "      <th>Stanley Kubrick</th>\n",
       "      <th>Daniela Denby-Ashe</th>\n",
       "      <th>Fabián Bielinsky</th>\n",
       "      <th>John Cameron Mitchell</th>\n",
       "      <th>Keythe Farley</th>\n",
       "    </tr>\n",
       "  </thead>\n",
       "  <tbody>\n",
       "    <tr>\n",
       "      <th>0</th>\n",
       "      <td>The Shawshank Redemption</td>\n",
       "      <td>Frank Darabont</td>\n",
       "      <td>0</td>\n",
       "      <td>0</td>\n",
       "      <td>0</td>\n",
       "      <td>0</td>\n",
       "      <td>0</td>\n",
       "      <td>0</td>\n",
       "      <td>0</td>\n",
       "      <td>0</td>\n",
       "      <td>...</td>\n",
       "      <td>0</td>\n",
       "      <td>0</td>\n",
       "      <td>0</td>\n",
       "      <td>0</td>\n",
       "      <td>0</td>\n",
       "      <td>0</td>\n",
       "      <td>0</td>\n",
       "      <td>0</td>\n",
       "      <td>0</td>\n",
       "      <td>0</td>\n",
       "    </tr>\n",
       "    <tr>\n",
       "      <th>1</th>\n",
       "      <td>The Godfather</td>\n",
       "      <td>Francis Ford Coppola</td>\n",
       "      <td>0</td>\n",
       "      <td>0</td>\n",
       "      <td>0</td>\n",
       "      <td>0</td>\n",
       "      <td>0</td>\n",
       "      <td>0</td>\n",
       "      <td>0</td>\n",
       "      <td>0</td>\n",
       "      <td>...</td>\n",
       "      <td>0</td>\n",
       "      <td>0</td>\n",
       "      <td>0</td>\n",
       "      <td>0</td>\n",
       "      <td>0</td>\n",
       "      <td>0</td>\n",
       "      <td>0</td>\n",
       "      <td>0</td>\n",
       "      <td>0</td>\n",
       "      <td>0</td>\n",
       "    </tr>\n",
       "    <tr>\n",
       "      <th>2</th>\n",
       "      <td>The Dark Knight</td>\n",
       "      <td>Christopher Nolan</td>\n",
       "      <td>0</td>\n",
       "      <td>0</td>\n",
       "      <td>0</td>\n",
       "      <td>0</td>\n",
       "      <td>0</td>\n",
       "      <td>0</td>\n",
       "      <td>0</td>\n",
       "      <td>0</td>\n",
       "      <td>...</td>\n",
       "      <td>0</td>\n",
       "      <td>0</td>\n",
       "      <td>0</td>\n",
       "      <td>0</td>\n",
       "      <td>0</td>\n",
       "      <td>0</td>\n",
       "      <td>0</td>\n",
       "      <td>0</td>\n",
       "      <td>0</td>\n",
       "      <td>0</td>\n",
       "    </tr>\n",
       "    <tr>\n",
       "      <th>3</th>\n",
       "      <td>The Godfather: Part II</td>\n",
       "      <td>Francis Ford Coppola</td>\n",
       "      <td>0</td>\n",
       "      <td>0</td>\n",
       "      <td>0</td>\n",
       "      <td>0</td>\n",
       "      <td>0</td>\n",
       "      <td>0</td>\n",
       "      <td>0</td>\n",
       "      <td>0</td>\n",
       "      <td>...</td>\n",
       "      <td>0</td>\n",
       "      <td>0</td>\n",
       "      <td>0</td>\n",
       "      <td>0</td>\n",
       "      <td>0</td>\n",
       "      <td>0</td>\n",
       "      <td>0</td>\n",
       "      <td>0</td>\n",
       "      <td>0</td>\n",
       "      <td>0</td>\n",
       "    </tr>\n",
       "    <tr>\n",
       "      <th>4</th>\n",
       "      <td>12 Angry Men</td>\n",
       "      <td>Sidney Lumet</td>\n",
       "      <td>0</td>\n",
       "      <td>0</td>\n",
       "      <td>0</td>\n",
       "      <td>0</td>\n",
       "      <td>0</td>\n",
       "      <td>0</td>\n",
       "      <td>0</td>\n",
       "      <td>0</td>\n",
       "      <td>...</td>\n",
       "      <td>0</td>\n",
       "      <td>0</td>\n",
       "      <td>0</td>\n",
       "      <td>0</td>\n",
       "      <td>0</td>\n",
       "      <td>0</td>\n",
       "      <td>0</td>\n",
       "      <td>0</td>\n",
       "      <td>0</td>\n",
       "      <td>0</td>\n",
       "    </tr>\n",
       "  </tbody>\n",
       "</table>\n",
       "<p>5 rows × 1212 columns</p>\n",
       "</div>"
      ],
      "text/plain": [
       "                       name              director  Daniel Monzón  \\\n",
       "0  The Shawshank Redemption        Frank Darabont              0   \n",
       "1             The Godfather  Francis Ford Coppola              0   \n",
       "2           The Dark Knight     Christopher Nolan              0   \n",
       "3    The Godfather: Part II  Francis Ford Coppola              0   \n",
       "4              12 Angry Men          Sidney Lumet              0   \n",
       "\n",
       "   Florian Henckel von Donnersmarck  Christian Carion  Morgan Freeman  \\\n",
       "0                                 0                 0               0   \n",
       "1                                 0                 0               0   \n",
       "2                                 0                 0               0   \n",
       "3                                 0                 0               0   \n",
       "4                                 0                 0               0   \n",
       "\n",
       "   Mike Newell  Mitch Pileggi  Kevin Macdonald  Jonathan Levine  ...  \\\n",
       "0            0              0                0                0  ...   \n",
       "1            0              0                0                0  ...   \n",
       "2            0              0                0                0  ...   \n",
       "3            0              0                0                0  ...   \n",
       "4            0              0                0                0  ...   \n",
       "\n",
       "   Graham Chapman  Son Ye-jin  Stellan Skarsgård  Rafael Pettersson  \\\n",
       "0               0           0                  0                  0   \n",
       "1               0           0                  0                  0   \n",
       "2               0           0                  0                  0   \n",
       "3               0           0                  0                  0   \n",
       "4               0           0                  0                  0   \n",
       "\n",
       "   Mamoru Miyano  Stanley Kubrick  Daniela Denby-Ashe  Fabián Bielinsky  \\\n",
       "0              0                0                   0                 0   \n",
       "1              0                0                   0                 0   \n",
       "2              0                0                   0                 0   \n",
       "3              0                0                   0                 0   \n",
       "4              0                0                   0                 0   \n",
       "\n",
       "   John Cameron Mitchell  Keythe Farley  \n",
       "0                      0              0  \n",
       "1                      0              0  \n",
       "2                      0              0  \n",
       "3                      0              0  \n",
       "4                      0              0  \n",
       "\n",
       "[5 rows x 1212 columns]"
      ]
     },
     "execution_count": 11,
     "metadata": {},
     "output_type": "execute_result"
    }
   ],
   "source": [
    "for i in range(1210):\n",
    "    new[directors[i]] = one_hot[ : ,i]\n",
    "    \n",
    "new.head()"
   ]
  },
  {
   "cell_type": "markdown",
   "id": "20054a22",
   "metadata": {},
   "source": [
    "### BASED ON SAME DIRECTORS"
   ]
  },
  {
   "cell_type": "code",
   "execution_count": 12,
   "id": "f06d847f",
   "metadata": {},
   "outputs": [
    {
     "name": "stdout",
     "output_type": "stream",
     "text": [
      "Recommended Movies/ Shows: \n",
      "The Dark Knight\n",
      "Inception\n",
      "Interstellar\n",
      "The Prestige\n",
      "The Dark Knight Rises\n",
      "Memento\n",
      "Batman Begins\n",
      "Dunkirk\n"
     ]
    }
   ],
   "source": [
    "for i in new.values:\n",
    "    if(movie.lower()== i[0].lower()):\n",
    "        rec = np.array(i[2:])\n",
    "        \n",
    "print('Recommended Movies/ Shows: ')\n",
    "for i in df.values:\n",
    "    if(list(np.array(i[2:])-rec).count(0) == len(directors)):\n",
    "        print(i[0])"
   ]
  },
  {
   "cell_type": "markdown",
   "id": "d9c6643e",
   "metadata": {},
   "source": [
    "### BASED ON SIMILAR DIRECTORS"
   ]
  },
  {
   "cell_type": "code",
   "execution_count": 13,
   "id": "4c0640c9",
   "metadata": {},
   "outputs": [],
   "source": [
    "def func(list):\n",
    "    sm=0\n",
    "    for i in list:\n",
    "        sm+= abs(i)\n",
    "        \n",
    "    return sm"
   ]
  },
  {
   "cell_type": "code",
   "execution_count": 14,
   "id": "87d42017",
   "metadata": {},
   "outputs": [
    {
     "name": "stdout",
     "output_type": "stream",
     "text": [
      "Recommended Movies/Shows: \n",
      "Dunkirk\n",
      "Memento\n",
      "The Dark Knight\n",
      "The Dark Knight Rises\n",
      "The Prestige\n",
      "Inception\n",
      "Interstellar\n",
      "Batman Begins\n",
      "Glory\n",
      "Majo no takkyûbin\n"
     ]
    }
   ],
   "source": [
    "for i in df.values:\n",
    "    if(movie.lower()== i[0].lower()):\n",
    "        rec= np.array(i[2:])\n",
    "\n",
    "lst=[]\n",
    "\n",
    "for i in df.values:\n",
    "    diff = func(list(np.array(i[2:])-rec))\n",
    "    lst.append([i[0], diff])\n",
    "\n",
    "df_= pd.DataFrame(lst, columns=['Movies', 'Difference'])\n",
    "\n",
    "print('Recommended Movies/Shows: ')\n",
    "\n",
    "for i in df_.sort_values(by='Difference').head(10).iloc[:, 0].values:\n",
    "    print(i)"
   ]
  },
  {
   "cell_type": "markdown",
   "id": "1dba1dc1",
   "metadata": {},
   "source": [
    "## 4. NAME BASED RECOMMENDATIONS"
   ]
  },
  {
   "cell_type": "code",
   "execution_count": 15,
   "id": "dd0556f0",
   "metadata": {},
   "outputs": [],
   "source": [
    "df = pd.read_csv('Movies.csv')\n",
    "\n",
    "del df['year']\n",
    "del df['duration']\n",
    "del df['genre']\n",
    "del df['rating']\n",
    "del df['type']"
   ]
  },
  {
   "cell_type": "code",
   "execution_count": 16,
   "id": "ce57098d",
   "metadata": {},
   "outputs": [
    {
     "name": "stdout",
     "output_type": "stream",
     "text": [
      "1192\n"
     ]
    }
   ],
   "source": [
    "name=[]\n",
    "for i in df['name']:\n",
    "    i=i.replace(':', '')\n",
    "    i= i.replace('-', '')\n",
    "    if(len(i.split(' '))<=3):\n",
    "        name.append(' '.join(i.split(' ')[:len(i.split(' '))//2 +1]))\n",
    "    else:\n",
    "        name.append(' '.join(i.split(' ')[: len(i.split(' '))//2 ]))\n",
    "name= list(set(name))\n",
    "print(len(name))"
   ]
  },
  {
   "cell_type": "code",
   "execution_count": 17,
   "id": "a848ab60",
   "metadata": {},
   "outputs": [
    {
     "name": "stdout",
     "output_type": "stream",
     "text": [
      "1250\n"
     ]
    }
   ],
   "source": [
    "one_hot=[]\n",
    "for i in df['name']:\n",
    "    i = i.replace(':', '')\n",
    "    i = i.replace('-', '')\n",
    "    enc=[0]*1192\n",
    "    if(len(i.split(' '))<=3):\n",
    "        enc[name.index(' '.join(i.split(' ')[:len(i.split(' '))//2 +1]))]=1\n",
    "    else:\n",
    "        enc[name.index(' '.join(i.split(' ')[: len(i.split(' '))//2 ]))]=1\n",
    "    one_hot.append(enc)\n",
    "    \n",
    "print(len(one_hot))"
   ]
  },
  {
   "cell_type": "markdown",
   "id": "05cc206f",
   "metadata": {},
   "source": [
    "### VERIFYING ONE HOT"
   ]
  },
  {
   "cell_type": "code",
   "execution_count": 18,
   "id": "b3b0344f",
   "metadata": {},
   "outputs": [
    {
     "name": "stdout",
     "output_type": "stream",
     "text": [
      "Valid One Hot Encoded!!\n"
     ]
    }
   ],
   "source": [
    "for i in range(len(df['name'])):\n",
    "    if(one_hot[i].count(1) != 1):\n",
    "        print('Not valid')\n",
    "        break\n",
    "    else:\n",
    "        flag=1\n",
    "if(flag):\n",
    "    print('Valid One Hot Encoded!!')"
   ]
  },
  {
   "cell_type": "markdown",
   "id": "5d9a5e24",
   "metadata": {},
   "source": [
    "### Adding columns in dataframe"
   ]
  },
  {
   "cell_type": "code",
   "execution_count": 19,
   "id": "f1bd4cb2",
   "metadata": {},
   "outputs": [
    {
     "name": "stdout",
     "output_type": "stream",
     "text": [
      "(1250, 1192)\n"
     ]
    }
   ],
   "source": [
    "one_hot= np.array(one_hot)\n",
    "print(one_hot.shape)"
   ]
  },
  {
   "cell_type": "code",
   "execution_count": 20,
   "id": "5df539f8",
   "metadata": {},
   "outputs": [],
   "source": [
    "for i in range(1191):\n",
    "    df[name[i]]=one_hot[: ,i]"
   ]
  },
  {
   "cell_type": "code",
   "execution_count": 21,
   "id": "aac5da39",
   "metadata": {},
   "outputs": [
    {
     "data": {
      "text/html": [
       "<div>\n",
       "<style scoped>\n",
       "    .dataframe tbody tr th:only-of-type {\n",
       "        vertical-align: middle;\n",
       "    }\n",
       "\n",
       "    .dataframe tbody tr th {\n",
       "        vertical-align: top;\n",
       "    }\n",
       "\n",
       "    .dataframe thead th {\n",
       "        text-align: right;\n",
       "    }\n",
       "</style>\n",
       "<table border=\"1\" class=\"dataframe\">\n",
       "  <thead>\n",
       "    <tr style=\"text-align: right;\">\n",
       "      <th></th>\n",
       "      <th>name</th>\n",
       "      <th>director</th>\n",
       "      <th>Dark Waters</th>\n",
       "      <th>Dial M</th>\n",
       "      <th>The Searchers</th>\n",
       "      <th>Inside Man</th>\n",
       "      <th>Brass Eye</th>\n",
       "      <th>La double</th>\n",
       "      <th>Blackadder Goes</th>\n",
       "      <th>Smultronstället</th>\n",
       "      <th>...</th>\n",
       "      <th>Bridge of</th>\n",
       "      <th>Le charme discret</th>\n",
       "      <th>Goodfellas</th>\n",
       "      <th>Du rififi</th>\n",
       "      <th>Gilda</th>\n",
       "      <th>L'avventura</th>\n",
       "      <th>La leggenda</th>\n",
       "      <th>The Simpsons</th>\n",
       "      <th>Vinland Saga</th>\n",
       "      <th>Ted Lasso</th>\n",
       "    </tr>\n",
       "  </thead>\n",
       "  <tbody>\n",
       "    <tr>\n",
       "      <th>0</th>\n",
       "      <td>The Shawshank Redemption</td>\n",
       "      <td>Frank Darabont</td>\n",
       "      <td>0</td>\n",
       "      <td>0</td>\n",
       "      <td>0</td>\n",
       "      <td>0</td>\n",
       "      <td>0</td>\n",
       "      <td>0</td>\n",
       "      <td>0</td>\n",
       "      <td>0</td>\n",
       "      <td>...</td>\n",
       "      <td>0</td>\n",
       "      <td>0</td>\n",
       "      <td>0</td>\n",
       "      <td>0</td>\n",
       "      <td>0</td>\n",
       "      <td>0</td>\n",
       "      <td>0</td>\n",
       "      <td>0</td>\n",
       "      <td>0</td>\n",
       "      <td>0</td>\n",
       "    </tr>\n",
       "    <tr>\n",
       "      <th>1</th>\n",
       "      <td>The Godfather</td>\n",
       "      <td>Francis Ford Coppola</td>\n",
       "      <td>0</td>\n",
       "      <td>0</td>\n",
       "      <td>0</td>\n",
       "      <td>0</td>\n",
       "      <td>0</td>\n",
       "      <td>0</td>\n",
       "      <td>0</td>\n",
       "      <td>0</td>\n",
       "      <td>...</td>\n",
       "      <td>0</td>\n",
       "      <td>0</td>\n",
       "      <td>0</td>\n",
       "      <td>0</td>\n",
       "      <td>0</td>\n",
       "      <td>0</td>\n",
       "      <td>0</td>\n",
       "      <td>0</td>\n",
       "      <td>0</td>\n",
       "      <td>0</td>\n",
       "    </tr>\n",
       "    <tr>\n",
       "      <th>2</th>\n",
       "      <td>The Dark Knight</td>\n",
       "      <td>Christopher Nolan</td>\n",
       "      <td>0</td>\n",
       "      <td>0</td>\n",
       "      <td>0</td>\n",
       "      <td>0</td>\n",
       "      <td>0</td>\n",
       "      <td>0</td>\n",
       "      <td>0</td>\n",
       "      <td>0</td>\n",
       "      <td>...</td>\n",
       "      <td>0</td>\n",
       "      <td>0</td>\n",
       "      <td>0</td>\n",
       "      <td>0</td>\n",
       "      <td>0</td>\n",
       "      <td>0</td>\n",
       "      <td>0</td>\n",
       "      <td>0</td>\n",
       "      <td>0</td>\n",
       "      <td>0</td>\n",
       "    </tr>\n",
       "    <tr>\n",
       "      <th>3</th>\n",
       "      <td>The Godfather: Part II</td>\n",
       "      <td>Francis Ford Coppola</td>\n",
       "      <td>0</td>\n",
       "      <td>0</td>\n",
       "      <td>0</td>\n",
       "      <td>0</td>\n",
       "      <td>0</td>\n",
       "      <td>0</td>\n",
       "      <td>0</td>\n",
       "      <td>0</td>\n",
       "      <td>...</td>\n",
       "      <td>0</td>\n",
       "      <td>0</td>\n",
       "      <td>0</td>\n",
       "      <td>0</td>\n",
       "      <td>0</td>\n",
       "      <td>0</td>\n",
       "      <td>0</td>\n",
       "      <td>0</td>\n",
       "      <td>0</td>\n",
       "      <td>0</td>\n",
       "    </tr>\n",
       "    <tr>\n",
       "      <th>4</th>\n",
       "      <td>12 Angry Men</td>\n",
       "      <td>Sidney Lumet</td>\n",
       "      <td>0</td>\n",
       "      <td>0</td>\n",
       "      <td>0</td>\n",
       "      <td>0</td>\n",
       "      <td>0</td>\n",
       "      <td>0</td>\n",
       "      <td>0</td>\n",
       "      <td>0</td>\n",
       "      <td>...</td>\n",
       "      <td>0</td>\n",
       "      <td>0</td>\n",
       "      <td>0</td>\n",
       "      <td>0</td>\n",
       "      <td>0</td>\n",
       "      <td>0</td>\n",
       "      <td>0</td>\n",
       "      <td>0</td>\n",
       "      <td>0</td>\n",
       "      <td>0</td>\n",
       "    </tr>\n",
       "  </tbody>\n",
       "</table>\n",
       "<p>5 rows × 1193 columns</p>\n",
       "</div>"
      ],
      "text/plain": [
       "                       name              director  Dark Waters  Dial M  \\\n",
       "0  The Shawshank Redemption        Frank Darabont            0       0   \n",
       "1             The Godfather  Francis Ford Coppola            0       0   \n",
       "2           The Dark Knight     Christopher Nolan            0       0   \n",
       "3    The Godfather: Part II  Francis Ford Coppola            0       0   \n",
       "4              12 Angry Men          Sidney Lumet            0       0   \n",
       "\n",
       "   The Searchers  Inside Man  Brass Eye  La double  Blackadder Goes  \\\n",
       "0              0           0          0          0                0   \n",
       "1              0           0          0          0                0   \n",
       "2              0           0          0          0                0   \n",
       "3              0           0          0          0                0   \n",
       "4              0           0          0          0                0   \n",
       "\n",
       "   Smultronstället  ...  Bridge of  Le charme discret  Goodfellas  Du rififi  \\\n",
       "0                0  ...          0                  0           0          0   \n",
       "1                0  ...          0                  0           0          0   \n",
       "2                0  ...          0                  0           0          0   \n",
       "3                0  ...          0                  0           0          0   \n",
       "4                0  ...          0                  0           0          0   \n",
       "\n",
       "   Gilda  L'avventura  La leggenda  The Simpsons  Vinland Saga  Ted Lasso  \n",
       "0      0            0            0             0             0          0  \n",
       "1      0            0            0             0             0          0  \n",
       "2      0            0            0             0             0          0  \n",
       "3      0            0            0             0             0          0  \n",
       "4      0            0            0             0             0          0  \n",
       "\n",
       "[5 rows x 1193 columns]"
      ]
     },
     "execution_count": 21,
     "metadata": {},
     "output_type": "execute_result"
    }
   ],
   "source": [
    "df.head()"
   ]
  },
  {
   "cell_type": "markdown",
   "id": "e5e031ba",
   "metadata": {},
   "source": [
    "## RECOMMENDING MOVIES BASED ON NAME"
   ]
  },
  {
   "cell_type": "code",
   "execution_count": 22,
   "id": "89cd6d1e",
   "metadata": {},
   "outputs": [
    {
     "name": "stdout",
     "output_type": "stream",
     "text": [
      "Enter the name of the movie:The Dark Knight\n",
      "Recommended Movies/Shows: \n",
      "The Dark Knight\n",
      "The Dark Knight Rises\n"
     ]
    }
   ],
   "source": [
    "user= input('Enter the name of the movie:')\n",
    "for i in df.values:\n",
    "    if(i[0].lower()== user.lower()):\n",
    "        rec= np.array(i[2:])\n",
    "\n",
    "diff=[]\n",
    "for i in df.values:\n",
    "    xyz = list(np.array(i[2:])- rec)\n",
    "    diff.append([i[0], func(xyz)])\n",
    "    \n",
    "df_= pd.DataFrame(diff, columns=['Name', 'Difference'])\n",
    "df_=df_.sort_values(by='Difference')\n",
    "print('Recommended Movies/Shows: ')\n",
    "for i in df_.values:\n",
    "    if(i[1] ==0):\n",
    "        print(i[0])"
   ]
  },
  {
   "cell_type": "code",
   "execution_count": null,
   "id": "a8ef5d12",
   "metadata": {},
   "outputs": [],
   "source": []
  },
  {
   "cell_type": "code",
   "execution_count": null,
   "id": "eb02f1d6",
   "metadata": {},
   "outputs": [],
   "source": []
  }
 ],
 "metadata": {
  "kernelspec": {
   "display_name": "Python 3 (ipykernel)",
   "language": "python",
   "name": "python3"
  },
  "language_info": {
   "codemirror_mode": {
    "name": "ipython",
    "version": 3
   },
   "file_extension": ".py",
   "mimetype": "text/x-python",
   "name": "python",
   "nbconvert_exporter": "python",
   "pygments_lexer": "ipython3",
   "version": "3.9.13"
  }
 },
 "nbformat": 4,
 "nbformat_minor": 5
}
